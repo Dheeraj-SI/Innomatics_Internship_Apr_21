{
 "cells": [
  {
   "cell_type": "code",
   "execution_count": 4,
   "metadata": {},
   "outputs": [
    {
     "name": "stdout",
     "output_type": "stream",
     "text": [
      "Enter the complecx number 5+9j\n",
      "The absolute value of complex  10.295630140987\n",
      "Phase of complex number is  1.0636978224025597\n"
     ]
    }
   ],
   "source": [
    "# 1 finding polar coordinates\n",
    "from cmath import phase\n",
    "num = input(\"Enter the complecx number \")\n",
    "cnum =complex(num)\n",
    "print('The absolute value of complex ',abs(cnum))\n",
    "print(\"Phase of complex number is \",phase(cnum))\n"
   ]
  },
  {
   "cell_type": "code",
   "execution_count": 16,
   "metadata": {},
   "outputs": [
    {
     "name": "stdout",
     "output_type": "stream",
     "text": [
      "5\n",
      "4\n",
      "The angle is  51\n"
     ]
    }
   ],
   "source": [
    "# 2 Angle MBC\n",
    "import math\n",
    "\n",
    "c, a = int(input()), int(input())\n",
    "\n",
    "b = (c**2 + a **2)**0.5\n",
    "\n",
    "C = math.acos((b**2 + a**2 - c**2) / (2*a*b))\n",
    "\n",
    "print(\"The angle is \",round((180/math.pi)*C))\n"
   ]
  },
  {
   "cell_type": "code",
   "execution_count": 18,
   "metadata": {},
   "outputs": [
    {
     "name": "stdout",
     "output_type": "stream",
     "text": [
      "6\n",
      "1\n",
      "121\n",
      "12321\n",
      "1234321\n",
      "123454321\n",
      "12345654321\n"
     ]
    }
   ],
   "source": [
    "#3 Triangle Quest 2\n",
    "\n",
    "for i in range(1,int(input())+1):\n",
    "    print (((10**i - 1)//9)**2)\n"
   ]
  },
  {
   "cell_type": "code",
   "execution_count": 26,
   "metadata": {},
   "outputs": [
    {
     "name": "stdout",
     "output_type": "stream",
     "text": [
      "155\n",
      "15\n",
      "(10, 5)\n"
     ]
    }
   ],
   "source": [
    "#4 Mod Divmod\n",
    "a = int(input())\n",
    "b = int(input())\n",
    "c = round(a/b)\n",
    "d = a%b\n",
    "tup=(c,d)\n",
    "print(tup)"
   ]
  },
  {
   "cell_type": "code",
   "execution_count": 27,
   "metadata": {},
   "outputs": [
    {
     "name": "stdout",
     "output_type": "stream",
     "text": [
      "5\n",
      "6\n",
      "7\n",
      "15625\n",
      "1\n"
     ]
    }
   ],
   "source": [
    "#5 Power - Mod Power\n",
    "a = int(input())\n",
    "b = int(input())\n",
    "m = int(input())\n",
    "\n",
    "print(pow(a,b))\n",
    "print(pow(a,b,m))"
   ]
  },
  {
   "cell_type": "code",
   "execution_count": 2,
   "metadata": {},
   "outputs": [
    {
     "name": "stdout",
     "output_type": "stream",
     "text": [
      "2\n",
      "3\n",
      "4\n",
      "5\n",
      "1032\n"
     ]
    }
   ],
   "source": [
    "#6 Integer come in all sizes\n",
    "a,b,c,d = int(input()),int(input()),int(input()),int(input())\n",
    "print(a**b + c**d)"
   ]
  },
  {
   "cell_type": "code",
   "execution_count": 3,
   "metadata": {},
   "outputs": [
    {
     "name": "stdout",
     "output_type": "stream",
     "text": [
      "4\n",
      "1\n",
      "22\n",
      "333\n"
     ]
    }
   ],
   "source": [
    "#7 Triangle quest\n",
    "for i in range(1,int(input())):\n",
    "    print(10**i//9*i)"
   ]
  },
  {
   "cell_type": "code",
   "execution_count": null,
   "metadata": {},
   "outputs": [],
   "source": []
  }
 ],
 "metadata": {
  "kernelspec": {
   "display_name": "Python 3",
   "language": "python",
   "name": "python3"
  },
  "language_info": {
   "codemirror_mode": {
    "name": "ipython",
    "version": 3
   },
   "file_extension": ".py",
   "mimetype": "text/x-python",
   "name": "python",
   "nbconvert_exporter": "python",
   "pygments_lexer": "ipython3",
   "version": "3.7.6"
  }
 },
 "nbformat": 4,
 "nbformat_minor": 4
}
