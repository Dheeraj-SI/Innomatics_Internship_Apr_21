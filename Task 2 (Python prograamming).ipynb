{
 "cells": [
  {
   "cell_type": "code",
   "execution_count": 1,
   "metadata": {},
   "outputs": [
    {
     "name": "stdout",
     "output_type": "stream",
     "text": [
      "3\n",
      "3\n",
      "4\n",
      "5\n",
      "[[0, 0, 0], [0, 0, 1], [0, 0, 2], [0, 0, 3], [0, 0, 4], [0, 1, 0], [0, 1, 1], [0, 1, 2], [0, 1, 3], [0, 2, 0], [0, 2, 1], [0, 2, 2], [0, 2, 4], [0, 3, 0], [0, 3, 1], [0, 3, 3], [0, 3, 4], [1, 0, 0], [1, 0, 1], [1, 0, 2], [1, 0, 3], [1, 1, 0], [1, 1, 1], [1, 1, 2], [1, 1, 4], [1, 2, 0], [1, 2, 1], [1, 2, 3], [1, 2, 4], [1, 3, 0], [1, 3, 2], [1, 3, 3], [1, 3, 4], [2, 0, 0], [2, 0, 1], [2, 0, 2], [2, 0, 4], [2, 1, 0], [2, 1, 1], [2, 1, 3], [2, 1, 4], [2, 2, 0], [2, 2, 2], [2, 2, 3], [2, 2, 4], [2, 3, 1], [2, 3, 2], [2, 3, 3], [2, 3, 4], [3, 0, 0], [3, 0, 1], [3, 0, 3], [3, 0, 4], [3, 1, 0], [3, 1, 2], [3, 1, 3], [3, 1, 4], [3, 2, 1], [3, 2, 2], [3, 2, 3], [3, 2, 4], [3, 3, 0], [3, 3, 1], [3, 3, 2], [3, 3, 3], [3, 3, 4]]\n"
     ]
    }
   ],
   "source": [
    "#Q.1 List comprehension\n",
    "x = int(input())\n",
    "y = int(input())\n",
    "z = int(input())\n",
    "n = int(input())\n",
    "    \n",
    "combination = [[i,j,k] for i in range(x+1) for j in range(y+1) for k in range(z+1) if i+j+k != n]\n",
    "        \n",
    "print(combination)"
   ]
  },
  {
   "cell_type": "code",
   "execution_count": 3,
   "metadata": {},
   "outputs": [
    {
     "name": "stdout",
     "output_type": "stream",
     "text": [
      "Enter the number of participants 8\n",
      "Enter the scores 3 4 5 6 7 8 9 9 \n",
      "The second highest scorer is  8\n"
     ]
    }
   ],
   "source": [
    "#Q.2 Finding the second highest scorer\n",
    "if __name__ == '__main__':\n",
    "    n = int(input(\"Enter the number of participants \"))\n",
    "    arr = map(int, input(\"Enter the scores \").split())\n",
    "    a = set(arr)\n",
    "    a.remove(max(a))\n",
    "    print(\"The second highest scorer is \", max(a))"
   ]
  },
  {
   "cell_type": "code",
   "execution_count": 14,
   "metadata": {},
   "outputs": [
    {
     "name": "stdout",
     "output_type": "stream",
     "text": [
      "Enter the number of participants 3\n",
      "Enter the name Dheeraj\n",
      "Enter the score 23\n",
      "Enter the name suraj\n",
      "Enter the score 34\n",
      "Enter the name faizal\n",
      "Enter the score 67\n",
      "The second highest scorer is suraj\n"
     ]
    }
   ],
   "source": [
    "#Q.3 Finding the name of second highest scorer - Nested Lists\n",
    "participants=int(input(\"Enter the number of participants \"))\n",
    "a=[]\n",
    "y=1000\n",
    "z=1000\n",
    "for i in range(participants):\n",
    "    name=input(\"Enter the name \")\n",
    "    score=float(input(\"Enter the score \"))\n",
    "    if(score<y):\n",
    "        z=y\n",
    "        y=score\n",
    "    if(score<z and score>y):\n",
    "        z=score\n",
    "    a.append([name,score])\n",
    "a=sorted(a)\n",
    "for i in a:\n",
    "    if(i[1]==z):\n",
    "        print(\"The second highest scorer is\",i[0])"
   ]
  },
  {
   "cell_type": "code",
   "execution_count": null,
   "metadata": {},
   "outputs": [],
   "source": [
    "#Q4 Finding the percentage\n",
    "if __name__ == '__main__':\n",
    "   N = int(input())\n",
    "stud_dict = dict()\n",
    "\n",
    "for i in range(N):\n",
    "    tmp = input().split(' ')\n",
    "    name = tmp[0]\n",
    "    stud_dict[name] = (float(tmp[1]), float(tmp[2]), float(tmp[3]))\n",
    "    \n",
    "name = input()\n",
    "print('%.2f' % (sum(stud_dict[name]) / 3.0))"
   ]
  },
  {
   "cell_type": "code",
   "execution_count": 3,
   "metadata": {},
   "outputs": [
    {
     "name": "stdout",
     "output_type": "stream",
     "text": [
      "12\n",
      "insert 0 5\n",
      "insert 1 10\n",
      "insert 0 6\n",
      "print\n",
      "[6, 5, 10]\n",
      "remove 6\n",
      "append 9\n",
      "append 1\n",
      "sort\n",
      "print\n",
      "[1, 5, 9, 10]\n",
      "pop\n",
      "reverse\n",
      "print\n",
      "[9, 5, 1]\n"
     ]
    }
   ],
   "source": [
    "#Q. 5 List\n",
    "test =int(input())\n",
    "s=[]\n",
    "for _ in range (test):\n",
    "    cmd=list(input().split())\n",
    "    \n",
    "    if cmd[0]=='insert':\n",
    "        s.insert(int(cmd[1]),int(cmd[2]))\n",
    "    elif cmd[0]==\"remove\":\n",
    "        s.remove(int(cmd[1]))\n",
    "    elif cmd[0]==\"append\":\n",
    "        s.append(int(cmd[1]))\n",
    "    elif cmd[0]==\"sort\":\n",
    "        s.sort()\n",
    "    elif cmd[0]==\"pop\":\n",
    "        s.pop()\n",
    "    elif cmd[0]==\"reverse\":\n",
    "        s.reverse()\n",
    "    elif cmd[0]==\"count\":\n",
    "        v=s.count(int(cmd[1]))\n",
    "        print(v)\n",
    "    elif cmd[0]==\"index\":\n",
    "        x=s.index(int(cmd[1]))\n",
    "        print(x)\n",
    "   \n",
    "    elif cmd[0]== 'print':\n",
    "        print(s)"
   ]
  },
  {
   "cell_type": "code",
   "execution_count": 4,
   "metadata": {},
   "outputs": [
    {
     "name": "stdout",
     "output_type": "stream",
     "text": [
      "4\n",
      "4\n",
      "3430022387567\n"
     ]
    }
   ],
   "source": [
    "#Q.6 Tuple and Hash\n",
    "input()\n",
    "l = map(int, input().strip().split(\" \"))\n",
    "print(hash(tuple(l)))"
   ]
  },
  {
   "cell_type": "code",
   "execution_count": 6,
   "metadata": {},
   "outputs": [
    {
     "name": "stdout",
     "output_type": "stream",
     "text": [
      "Enter the number of plants10\n",
      "Enter the height of plants123 134 134 135 167 123 14 189 155\n",
      "The average distinct height of plants is  131.0\n"
     ]
    }
   ],
   "source": [
    "#Q7 finding the average of distinct elements\n",
    "def average(array):\n",
    "    # your code goes here\n",
    "    s = set(array)\n",
    "    avg = sum(s)/len(s)\n",
    "    return avg\n",
    "\n",
    "if __name__ == '__main__':\n",
    "    n = int(input(\"Enter the number of plants\"))\n",
    "    arr = list(map(int, input(\"Enter the height of plants\").split()))\n",
    "    result = average(arr)\n",
    "    print(\"The average distinct height of plants is \",result)"
   ]
  },
  {
   "cell_type": "code",
   "execution_count": 10,
   "metadata": {},
   "outputs": [
    {
     "name": "stdout",
     "output_type": "stream",
     "text": [
      "Enter the number of elements in array and set4 3\n",
      "Enter the array elements3 4 5 6\n",
      "Enter the elements of set A5 6 7\n",
      "Enter the elements of set B1 2 3\n",
      "Happiness score is 1\n"
     ]
    }
   ],
   "source": [
    "#Q8 Happiness score\n",
    "n = list(input(\"Enter the number of elements in array and set\").split())\n",
    "arr = list(input(\"Enter the array elements\").split())\n",
    "a = list(input(\"Enter the elements of set A\").split())\n",
    "setA = set(a)\n",
    "b = list(input(\"Enter the elements of set B\").split())\n",
    "setB = set(b)\n",
    "happiness = 0\n",
    "for i in arr:\n",
    "    if i in setA:\n",
    "        happiness+= 1\n",
    "    elif i in setB:\n",
    "        happiness-=1\n",
    "    else:\n",
    "        happiness+=0\n",
    "print(\"Happiness score is\",happiness)"
   ]
  },
  {
   "cell_type": "code",
   "execution_count": 12,
   "metadata": {},
   "outputs": [
    {
     "name": "stdout",
     "output_type": "stream",
     "text": [
      "2 3 4\n",
      "3 4 5\n",
      "{'2', '5'}\n"
     ]
    }
   ],
   "source": [
    "#Q.9 Symmetric difference of set\n",
    "a = list(input().split())\n",
    "b = list(input().split())\n",
    "setA = set(a)\n",
    "setB = set(b)\n",
    "x =setA.difference(setB)\n",
    "y =setB.difference(setA)\n",
    "symmetric_difference = x.union(y)\n",
    "print(symmetric_difference)"
   ]
  },
  {
   "cell_type": "code",
   "execution_count": 14,
   "metadata": {},
   "outputs": [
    {
     "name": "stdout",
     "output_type": "stream",
     "text": [
      "5\n",
      "India \n",
      "Pakistan\n",
      "India\n",
      "Bangladesh\n",
      "Srilanka\n",
      "5\n"
     ]
    }
   ],
   "source": [
    "#Q.10 set of stamps\n",
    "n=int(input())\n",
    "s= set()\n",
    "for i in range(n):\n",
    "    s.add(input())\n",
    "print(len(s))"
   ]
  },
  {
   "cell_type": "code",
   "execution_count": 23,
   "metadata": {},
   "outputs": [
    {
     "name": "stdout",
     "output_type": "stream",
     "text": [
      "3\n",
      "1 2 3 4 5 6\n",
      "remove 5\n",
      "pop\n",
      "discard 3\n",
      "12\n"
     ]
    }
   ],
   "source": [
    "#Q 11 \n",
    "n = int(input())\n",
    "s = set(map(int, input().split()))\n",
    "for i in range(n):\n",
    "    c = input().split()\n",
    "    if c[0] == 'pop':\n",
    "        s.pop()\n",
    "    elif c[0] == 'remove':\n",
    "        s.remove(int(c[1]))\n",
    "    else:\n",
    "        s.discard(int(c[1]))\n",
    "print(sum(s))\n",
    "\n"
   ]
  },
  {
   "cell_type": "code",
   "execution_count": 31,
   "metadata": {},
   "outputs": [
    {
     "name": "stdout",
     "output_type": "stream",
     "text": [
      "3\n",
      "1 2 3\n",
      "2\n",
      "14\n",
      "4\n"
     ]
    }
   ],
   "source": [
    "#Q 12 union of sets\n",
    "num1 = int(input())\n",
    "setA = set(map(int, input().split()))\n",
    "num2 = int(input())\n",
    "setB = set(map(int, input().split()))\n",
    "\n",
    "print(len(setA.union(setB)))"
   ]
  },
  {
   "cell_type": "code",
   "execution_count": 32,
   "metadata": {},
   "outputs": [
    {
     "name": "stdout",
     "output_type": "stream",
     "text": [
      "5\n",
      "1 2 3 4 5\n",
      "3\n",
      "2 4 6\n",
      "2\n"
     ]
    }
   ],
   "source": [
    "#Q13 Intersection of sets\n",
    "num1 = int(input())\n",
    "setA = set(map(int, input().split()))\n",
    "num2 = int(input())\n",
    "setB = set(map(int, input().split()))\n",
    "\n",
    "print(len(setA.intersection(setB)))"
   ]
  },
  {
   "cell_type": "code",
   "execution_count": 33,
   "metadata": {},
   "outputs": [
    {
     "name": "stdout",
     "output_type": "stream",
     "text": [
      "3\n",
      "1 2 3\n",
      "2\n",
      "3 4\n",
      "2\n"
     ]
    }
   ],
   "source": [
    "#Q14 Difference of sets\n",
    "num1 = int(input())\n",
    "setA = set(map(int, input().split()))\n",
    "num2 = int(input())\n",
    "setB = set(map(int, input().split()))\n",
    "\n",
    "print(len(setA.difference(setB)))"
   ]
  },
  {
   "cell_type": "code",
   "execution_count": 34,
   "metadata": {},
   "outputs": [
    {
     "name": "stdout",
     "output_type": "stream",
     "text": [
      "3\n",
      "1 2 3 4\n",
      "3\n",
      "4 5 6\n",
      "3\n"
     ]
    }
   ],
   "source": [
    "#15 Symmetric difference of sets\n",
    "num1 = int(input())\n",
    "setA = set(map(int, input().split()))\n",
    "num2 = int(input())\n",
    "setB = set(map(int, input().split()))\n",
    "\n",
    "print(len(setA.difference(setB)))"
   ]
  },
  {
   "cell_type": "code",
   "execution_count": 41,
   "metadata": {},
   "outputs": [
    {
     "name": "stdout",
     "output_type": "stream",
     "text": [
      "5 \n",
      "2 3 4 5 6\n",
      "23\n",
      "hd\n"
     ]
    },
    {
     "ename": "ValueError",
     "evalue": "not enough values to unpack (expected 2, got 1)",
     "output_type": "error",
     "traceback": [
      "\u001b[1;31m---------------------------------------------------------------------------\u001b[0m",
      "\u001b[1;31mValueError\u001b[0m                                Traceback (most recent call last)",
      "\u001b[1;32m<ipython-input-41-41fe9f2013be>\u001b[0m in \u001b[0;36m<module>\u001b[1;34m\u001b[0m\n\u001b[0;32m      5\u001b[0m \u001b[0mn\u001b[0m \u001b[1;33m=\u001b[0m \u001b[0mint\u001b[0m\u001b[1;33m(\u001b[0m\u001b[0minput\u001b[0m\u001b[1;33m(\u001b[0m\u001b[1;33m)\u001b[0m\u001b[1;33m)\u001b[0m\u001b[1;33m\u001b[0m\u001b[1;33m\u001b[0m\u001b[0m\n\u001b[0;32m      6\u001b[0m \u001b[1;32mfor\u001b[0m \u001b[0m_\u001b[0m \u001b[1;32min\u001b[0m \u001b[0mrange\u001b[0m\u001b[1;33m(\u001b[0m\u001b[0mn\u001b[0m\u001b[1;33m)\u001b[0m\u001b[1;33m:\u001b[0m\u001b[1;33m\u001b[0m\u001b[1;33m\u001b[0m\u001b[0m\n\u001b[1;32m----> 7\u001b[1;33m     \u001b[0mop\u001b[0m\u001b[1;33m,\u001b[0m \u001b[0m_\u001b[0m \u001b[1;33m=\u001b[0m \u001b[0minput\u001b[0m\u001b[1;33m(\u001b[0m\u001b[1;33m)\u001b[0m\u001b[1;33m.\u001b[0m\u001b[0msplit\u001b[0m\u001b[1;33m(\u001b[0m\u001b[1;34m' '\u001b[0m\u001b[1;33m)\u001b[0m\u001b[1;33m\u001b[0m\u001b[1;33m\u001b[0m\u001b[0m\n\u001b[0m\u001b[0;32m      8\u001b[0m     \u001b[0mb\u001b[0m \u001b[1;33m=\u001b[0m \u001b[0mset\u001b[0m\u001b[1;33m(\u001b[0m\u001b[0mint\u001b[0m\u001b[1;33m(\u001b[0m\u001b[0mx\u001b[0m\u001b[1;33m)\u001b[0m \u001b[1;32mfor\u001b[0m \u001b[0mx\u001b[0m \u001b[1;32min\u001b[0m \u001b[0minput\u001b[0m\u001b[1;33m(\u001b[0m\u001b[1;33m)\u001b[0m\u001b[1;33m.\u001b[0m\u001b[0msplit\u001b[0m\u001b[1;33m(\u001b[0m\u001b[1;34m' '\u001b[0m\u001b[1;33m)\u001b[0m\u001b[1;33m)\u001b[0m\u001b[1;33m\u001b[0m\u001b[1;33m\u001b[0m\u001b[0m\n\u001b[0;32m      9\u001b[0m     \u001b[1;32mif\u001b[0m \u001b[0mop\u001b[0m \u001b[1;33m==\u001b[0m \u001b[1;34m\"update\"\u001b[0m\u001b[1;33m:\u001b[0m\u001b[1;33m\u001b[0m\u001b[1;33m\u001b[0m\u001b[0m\n",
      "\u001b[1;31mValueError\u001b[0m: not enough values to unpack (expected 2, got 1)"
     ]
    }
   ],
   "source": [
    "#16 update on sets\n",
    "_ = input()\n",
    "a = set(int(x) for x in input().split(' '))\n",
    "\n",
    "n = int(input())\n",
    "for _ in range(n):\n",
    "    op, _ = input().split(' ')\n",
    "    b = set(int(x) for x in input().split(' '))\n",
    "    if op == \"update\":\n",
    "        a |= b\n",
    "    elif op == \"intersection_update\":\n",
    "        a &= b\n",
    "    elif op == \"difference_update\":\n",
    "        a -= b\n",
    "    elif op == \"symmetric_difference_update\":\n",
    "        a ^= b\n",
    "\n",
    "        \n",
    "print(sum(a))"
   ]
  },
  {
   "cell_type": "code",
   "execution_count": 42,
   "metadata": {},
   "outputs": [
    {
     "name": "stdout",
     "output_type": "stream",
     "text": [
      "5\n",
      "1 2 3 1 2 3 1 2 3 1 2 3 1 2 3 4\n",
      "4\n"
     ]
    }
   ],
   "source": [
    "#17 captains room\n",
    "k = int(input())\n",
    "rooms = (int(x) for x in input().split(' '))\n",
    "seen = {}\n",
    "\n",
    "for i in rooms:\n",
    "    if not i in seen:\n",
    "        seen[i] = 1\n",
    "    else:\n",
    "        seen[i] += 1\n",
    "\n",
    "for key, val in seen.items():\n",
    "    if val != k:\n",
    "        print(key)"
   ]
  },
  {
   "cell_type": "code",
   "execution_count": 43,
   "metadata": {},
   "outputs": [
    {
     "name": "stdout",
     "output_type": "stream",
     "text": [
      "3\n",
      "5\n",
      "1 2 3 4 5 6\n",
      "9\n",
      "9 8 5 6 3 2 1 4 7\n",
      "True\n",
      "1\n",
      "2\n",
      "5\n",
      "3 6 5 4 1\n",
      "False\n",
      "7\n",
      "1 2 3 5 6 8 9\n",
      "3\n",
      "9 8 2\n",
      "False\n"
     ]
    }
   ],
   "source": [
    "#18 subset\n",
    "for i in range(int(input())):  \n",
    "    a = int(input()); A = set(input().split()) \n",
    "    b = int(input()); B = set(input().split())\n",
    "    print(A.issubset(B))"
   ]
  },
  {
   "cell_type": "code",
   "execution_count": 44,
   "metadata": {},
   "outputs": [
    {
     "name": "stdout",
     "output_type": "stream",
     "text": [
      "1 2 3 4 5 6 7 8 9 10 11 12 23 45 84 78\n",
      "2\n",
      "1 2 3 4 5\n",
      "100 11 12\n",
      "False\n"
     ]
    }
   ],
   "source": [
    "#19\n",
    "s = set(input().split())\n",
    "ans = True\n",
    "for i in range(int(input())):\n",
    "    t = set(input().split())\n",
    "    if (s > t) == False:\n",
    "        ans = False\n",
    "        break\n",
    "print(ans) "
   ]
  },
  {
   "cell_type": "code",
   "execution_count": null,
   "metadata": {},
   "outputs": [],
   "source": []
  }
 ],
 "metadata": {
  "kernelspec": {
   "display_name": "Python 3",
   "language": "python",
   "name": "python3"
  },
  "language_info": {
   "codemirror_mode": {
    "name": "ipython",
    "version": 3
   },
   "file_extension": ".py",
   "mimetype": "text/x-python",
   "name": "python",
   "nbconvert_exporter": "python",
   "pygments_lexer": "ipython3",
   "version": "3.7.6"
  }
 },
 "nbformat": 4,
 "nbformat_minor": 4
}
