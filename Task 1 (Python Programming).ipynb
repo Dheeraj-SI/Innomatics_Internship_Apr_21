{
 "cells": [
  {
   "cell_type": "code",
   "execution_count": 1,
   "metadata": {},
   "outputs": [
    {
     "name": "stdout",
     "output_type": "stream",
     "text": [
      "Hello world\n"
     ]
    }
   ],
   "source": [
    "# Q.1 Print Hello world\n",
    "print(\"Hello world\")"
   ]
  },
  {
   "cell_type": "code",
   "execution_count": 5,
   "metadata": {},
   "outputs": [
    {
     "name": "stdout",
     "output_type": "stream",
     "text": [
      "Enter the first number 7\n",
      "Enter the second number 5\n",
      "12\n",
      "2\n",
      "35\n"
     ]
    }
   ],
   "source": [
    "#Q.2 Arithmetic Operations\n",
    "if __name__ == '__main__':\n",
    "    a = int(input(\"Enter the first number \"))\n",
    "    b = int(input(\"Enter the second number \"))\n",
    "    print(a+b)\n",
    "    print(a-b)\n",
    "    print(a*b)"
   ]
  },
  {
   "cell_type": "code",
   "execution_count": 6,
   "metadata": {},
   "outputs": [
    {
     "name": "stdout",
     "output_type": "stream",
     "text": [
      "Enter the first number 8\n",
      "Enter the second number 5\n",
      "1\n",
      "1.6\n"
     ]
    }
   ],
   "source": [
    "#Q.3 integer division and float division\n",
    "if __name__ == '__main__':\n",
    "    a = int(input(\"Enter the first number \"))\n",
    "    b = int(input(\"Enter the second number \"))\n",
    "    print(a//b)\n",
    "    print(a/b)"
   ]
  },
  {
   "cell_type": "code",
   "execution_count": 8,
   "metadata": {},
   "outputs": [
    {
     "name": "stdout",
     "output_type": "stream",
     "text": [
      "Enter the number 6\n",
      "0\n",
      "1\n",
      "4\n",
      "9\n",
      "16\n",
      "25\n"
     ]
    }
   ],
   "source": [
    "#Q.4 printing the square of the number in rnage n\n",
    "if __name__ == '__main__':\n",
    "    n = int(input(\"Enter the number \"))\n",
    "    for i in range(n):\n",
    "        print(i*i)"
   ]
  },
  {
   "cell_type": "code",
   "execution_count": 9,
   "metadata": {},
   "outputs": [
    {
     "name": "stdout",
     "output_type": "stream",
     "text": [
      "Enter the year 3000\n"
     ]
    },
    {
     "data": {
      "text/plain": [
       "False"
      ]
     },
     "execution_count": 9,
     "metadata": {},
     "output_type": "execute_result"
    }
   ],
   "source": [
    "#Q.5 Georgian calander leap year \n",
    "def is_leap(year):\n",
    "    if year % 400 != 0 and year % 100 == 0:\n",
    "        return False\n",
    "    elif year % 4 == 0 and year % 100 == 0 and year % 400 !=0:\n",
    "        return False\n",
    "    elif year % 4 != 0:\n",
    "        return False\n",
    "    else:\n",
    "        return True\n",
    "\n",
    "year = int(input(\"Enter the year \"))\n",
    "\n",
    "is_leap(year)"
   ]
  },
  {
   "cell_type": "code",
   "execution_count": 11,
   "metadata": {},
   "outputs": [
    {
     "name": "stdout",
     "output_type": "stream",
     "text": [
      "Enter the number 6\n",
      "123456\n"
     ]
    }
   ],
   "source": [
    "#Q.6 printing the sequaence of number in range n\n",
    "if __name__ == '__main__':\n",
    "    n = int(input(\"Enter the number \"))\n",
    "    a = ''\n",
    "\n",
    "for i in range(1,n+1):\n",
    "    a += str(i)\n",
    "    \n",
    "print(a)"
   ]
  },
  {
   "cell_type": "code",
   "execution_count": 12,
   "metadata": {},
   "outputs": [
    {
     "name": "stdout",
     "output_type": "stream",
     "text": [
      "7\n",
      "Wierd\n"
     ]
    }
   ],
   "source": [
    "#Q.7 wierd and not wierd numbers\n",
    "import math\n",
    "import os\n",
    "import random\n",
    "import re\n",
    "import sys\n",
    "\n",
    "\n",
    "\n",
    "if __name__ == '__main__':\n",
    "    n = int(input().strip())\n",
    "    if n%2 != 0:\n",
    "        print(\"Wierd\")\n",
    "    elif n%2 == 0 and n in range(2,6):\n",
    "        print('Not Wierd')\n",
    "    elif n%2 == 0 and n in range(6,21):\n",
    "        print('Wierd')\n",
    "    else:\n",
    "        print('Not Wierd')\n"
   ]
  },
  {
   "cell_type": "code",
   "execution_count": null,
   "metadata": {},
   "outputs": [],
   "source": []
  }
 ],
 "metadata": {
  "kernelspec": {
   "display_name": "Python 3",
   "language": "python",
   "name": "python3"
  },
  "language_info": {
   "codemirror_mode": {
    "name": "ipython",
    "version": 3
   },
   "file_extension": ".py",
   "mimetype": "text/x-python",
   "name": "python",
   "nbconvert_exporter": "python",
   "pygments_lexer": "ipython3",
   "version": "3.7.6"
  }
 },
 "nbformat": 4,
 "nbformat_minor": 4
}
