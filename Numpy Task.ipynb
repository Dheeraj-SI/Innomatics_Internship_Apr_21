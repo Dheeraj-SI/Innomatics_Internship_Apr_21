{
 "cells": [
  {
   "cell_type": "code",
   "execution_count": 6,
   "metadata": {},
   "outputs": [
    {
     "name": "stdout",
     "output_type": "stream",
     "text": [
      "1 3 5 2 4 6\n",
      "[6. 4. 2. 5. 3. 1.]\n"
     ]
    }
   ],
   "source": [
    "#1 Arrays\n",
    "import numpy\n",
    "\n",
    "input_data = input().split(' ')\n",
    "reversed_array = numpy.fliplr(numpy.array([input_data],float))[0]\n",
    "\n",
    "print(reversed_array)"
   ]
  },
  {
   "cell_type": "code",
   "execution_count": 9,
   "metadata": {},
   "outputs": [
    {
     "name": "stdout",
     "output_type": "stream",
     "text": [
      "1 2 3 4 5 6 7 8 9\n",
      "[['1' '2' '3']\n",
      " ['4' '5' '6']\n",
      " ['7' '8' '9']]\n"
     ]
    }
   ],
   "source": [
    "#2 Shape and reshape\n",
    "import numpy\n",
    "a =input().strip().split(' ')\n",
    "a=numpy.array(a)\n",
    "print(numpy.reshape(a,(3,3)))"
   ]
  },
  {
   "cell_type": "code",
   "execution_count": 11,
   "metadata": {},
   "outputs": [
    {
     "name": "stdout",
     "output_type": "stream",
     "text": [
      "2 4\n",
      "3 4 5 6\n",
      "2 3 4 5\n",
      "[[3 2]\n",
      " [4 3]\n",
      " [5 4]\n",
      " [6 5]]\n",
      "[3 4 5 6 2 3 4 5]\n"
     ]
    }
   ],
   "source": [
    "#3 Transpose and flatten\n",
    "import numpy\n",
    "n,m = map(int,input().split())\n",
    "mat = numpy.array([[int(x) for x in input().split()] for k in range(n)])\n",
    "print(numpy.transpose(mat))\n",
    "print(mat.flatten())"
   ]
  },
  {
   "cell_type": "code",
   "execution_count": 13,
   "metadata": {},
   "outputs": [
    {
     "name": "stdout",
     "output_type": "stream",
     "text": [
      "2 3 4\n",
      "1 2 3 4\n",
      "2 4 6 8\n",
      "1 3 5 7\n",
      "6 8 1 3\n",
      "2 3 4 6\n",
      "[[1 2 3 4]\n",
      " [2 4 6 8]\n",
      " [1 3 5 7]\n",
      " [6 8 1 3]\n",
      " [2 3 4 6]]\n"
     ]
    }
   ],
   "source": [
    "#4 Concatenate\n",
    "import numpy\n",
    "\n",
    "n,m,p=map(int,input().split())\n",
    "\n",
    "lista1=[list(map(int,input().split())) for i in range(n)]\n",
    "lista2=[list(map(int,input().split())) for i in range(m)]\n",
    "a1=numpy.array(lista1)\n",
    "a2=numpy.array(lista2)\n",
    "\n",
    "print(numpy.concatenate((a1,a2),axis=0))"
   ]
  },
  {
   "cell_type": "code",
   "execution_count": 15,
   "metadata": {},
   "outputs": [
    {
     "name": "stdout",
     "output_type": "stream",
     "text": [
      "2 2 2\n",
      "[[[0 0]\n",
      "  [0 0]]\n",
      "\n",
      " [[0 0]\n",
      "  [0 0]]]\n",
      "[[[1 1]\n",
      "  [1 1]]\n",
      "\n",
      " [[1 1]\n",
      "  [1 1]]]\n"
     ]
    }
   ],
   "source": [
    "#5 zeroes and ones\n",
    "import numpy\n",
    "N = [int(x) for x in input().split()]\n",
    "print(numpy.zeros(N, dtype = numpy.int))\n",
    "print(numpy.ones(N, dtype = numpy.int))"
   ]
  },
  {
   "cell_type": "code",
   "execution_count": 19,
   "metadata": {},
   "outputs": [
    {
     "name": "stdout",
     "output_type": "stream",
     "text": [
      "3 3\n",
      "[[1. 0. 0.]\n",
      " [0. 1. 0.]\n",
      " [0. 0. 1.]]\n"
     ]
    }
   ],
   "source": [
    "#6 Eye and identity\n",
    "import numpy\n",
    "n,m =list(map(int,input().split()))\n",
    "print(numpy.eye(n,m,k=0))"
   ]
  },
  {
   "cell_type": "code",
   "execution_count": 22,
   "metadata": {},
   "outputs": [
    {
     "name": "stdout",
     "output_type": "stream",
     "text": [
      "1 3\n",
      "2 3 4\n",
      "5 6 7\n",
      "[[ 7  9 11]]\n",
      "[[-3 -3 -3]]\n",
      "[[10 18 28]]\n",
      "[[0 0 0]]\n",
      "[[2 3 4]]\n",
      "[[   32   729 16384]]\n"
     ]
    }
   ],
   "source": [
    "#7 Array mathematics\n",
    "import numpy\n",
    "n,m=map(int,input().split())\n",
    "A=numpy.array([list(map(int,input().split())) for i in range(n)])\n",
    "B=numpy.array([list(map(int,input().split())) for i in range(n)])\n",
    "print(A+B,A-B,A*B,A//B,A%B,A**B,sep='\\n')"
   ]
  },
  {
   "cell_type": "code",
   "execution_count": 25,
   "metadata": {},
   "outputs": [
    {
     "name": "stdout",
     "output_type": "stream",
     "text": [
      "1.1 2.2 3.3 4.4 5.5 6.6 7.7 8.8\n",
      "[2. 3. 4. 5. 6. 7. 8. 9.]\n",
      "[1. 2. 3. 4. 5. 6. 7. 8.]\n",
      "[1. 2. 3. 4. 6. 7. 8. 9.]\n"
     ]
    }
   ],
   "source": [
    "#8 Floor,ceil and rint\n",
    "import numpy as np\n",
    "a =np.array(list(map(float,input().split())))\n",
    "print(np.ceil(a))\n",
    "print(np.floor(a))\n",
    "print(np.rint(a))"
   ]
  },
  {
   "cell_type": "code",
   "execution_count": 26,
   "metadata": {},
   "outputs": [
    {
     "name": "stdout",
     "output_type": "stream",
     "text": [
      "2 4\n",
      "1 2 3 4\n",
      "2 4 6 8\n",
      "1944\n"
     ]
    }
   ],
   "source": [
    "#9 sum and product\n",
    "import numpy\n",
    "n,m=map(int,input().split())\n",
    "array=[list(map(int,input().split())) for i in range(n)]\n",
    "print(numpy.prod(numpy.sum(array,axis=0),None))"
   ]
  },
  {
   "cell_type": "code",
   "execution_count": 28,
   "metadata": {},
   "outputs": [
    {
     "name": "stdout",
     "output_type": "stream",
     "text": [
      "3 3\n",
      "1 2 3\n",
      "4 5 6\n",
      "7 8 9\n",
      "1\n",
      "9\n"
     ]
    }
   ],
   "source": [
    "#10 Min and max\n",
    "import numpy \n",
    "n,m = map(int,input().split())\n",
    "a =[list(map(int,input().split()))for i in range(n)]\n",
    "print(numpy.min(a),numpy.max(a),sep='\\n')"
   ]
  },
  {
   "cell_type": "code",
   "execution_count": 1,
   "metadata": {},
   "outputs": [
    {
     "name": "stdout",
     "output_type": "stream",
     "text": [
      "2 3\n",
      "1 2 3\n",
      "5 6 7\n",
      "[3. 4. 5.]\n",
      "[2. 6.]\n",
      "4.0\n",
      "[4. 4. 4.]\n",
      "[0.66666667 0.66666667]\n",
      "4.666666666666667\n",
      "[2. 2. 2.]\n",
      "[0.81649658 0.81649658]\n",
      "2.160246899469287\n"
     ]
    }
   ],
   "source": [
    "#11 Mean Var and std\n",
    "import numpy \n",
    "n,m = map(int,input().split())\n",
    "a =[list(map(int,input().split()))for i in range(n)]\n",
    "print(numpy.mean(a,axis=0),numpy.mean(a,axis=1),numpy.mean(a),numpy.var(a,axis=0),numpy.var(a,axis=1),numpy.var(a),numpy.std(a,axis=0),numpy.std(a,axis=1),numpy.std(a),sep='\\n')"
   ]
  },
  {
   "cell_type": "code",
   "execution_count": 6,
   "metadata": {},
   "outputs": [
    {
     "name": "stdout",
     "output_type": "stream",
     "text": [
      "2\n",
      "1 2\n",
      "3 4\n",
      "5 6\n",
      "7 8\n",
      "[[19 22]\n",
      " [43 50]]\n",
      "[-4 -4]\n"
     ]
    }
   ],
   "source": [
    "#12 Dot and cross product\n",
    "import numpy \n",
    "n =int(input())\n",
    "a =[list(map(int,input().split()))for i in range(n)]\n",
    "b =[list(map(int,input().split()))for i in range(n)]\n",
    "print(numpy.dot(a,b),numpy.cross(a,b),sep='\\n')"
   ]
  },
  {
   "cell_type": "code",
   "execution_count": 9,
   "metadata": {},
   "outputs": [
    {
     "name": "stdout",
     "output_type": "stream",
     "text": [
      "1 2\n",
      "3 4\n",
      "11\n",
      "[[3 4]\n",
      " [6 8]]\n"
     ]
    }
   ],
   "source": [
    "#13 Inner and outer product\n",
    "import numpy \n",
    "a =list(map(int,input().split()))\n",
    "b =list(map(int,input().split()))\n",
    "print(numpy.inner(a,b),numpy.outer(a,b),sep='\\n')"
   ]
  },
  {
   "cell_type": "code",
   "execution_count": 10,
   "metadata": {},
   "outputs": [
    {
     "name": "stdout",
     "output_type": "stream",
     "text": [
      "1 2\n",
      "0\n",
      "2.0\n"
     ]
    }
   ],
   "source": [
    "#14 Polynomials\n",
    "import numpy\n",
    "coefs=list(map(float,input().split()))\n",
    "x=float(input())\n",
    "print(numpy.polyval(coefs,x))"
   ]
  },
  {
   "cell_type": "code",
   "execution_count": 11,
   "metadata": {},
   "outputs": [
    {
     "name": "stdout",
     "output_type": "stream",
     "text": [
      "2\n",
      "1.1 1.1\n",
      "1.1 1.1\n",
      "0.0\n"
     ]
    }
   ],
   "source": [
    "#15 Linear Algebra\n",
    "import numpy\n",
    "array=[list(map(float,input().split())) for i in range(int(input()))]\n",
    "print(numpy.linalg.det(array))"
   ]
  }
 ],
 "metadata": {
  "kernelspec": {
   "display_name": "Python 3",
   "language": "python",
   "name": "python3"
  },
  "language_info": {
   "codemirror_mode": {
    "name": "ipython",
    "version": 3
   },
   "file_extension": ".py",
   "mimetype": "text/x-python",
   "name": "python",
   "nbconvert_exporter": "python",
   "pygments_lexer": "ipython3",
   "version": "3.7.6"
  }
 },
 "nbformat": 4,
 "nbformat_minor": 4
}
