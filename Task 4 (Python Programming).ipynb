{
 "cells": [
  {
   "cell_type": "code",
   "execution_count": 1,
   "metadata": {},
   "outputs": [
    {
     "name": "stdout",
     "output_type": "stream",
     "text": [
      "HeLlO mY NamE Is DhEErAj\n",
      "hElLo My nAMe iS dHeeRaJ\n"
     ]
    }
   ],
   "source": [
    "#1 Swapcase\n",
    "def swap_case(s):\n",
    "    return s.swapcase()\n",
    "\n",
    "if __name__ == '__main__':\n",
    "    s = input()\n",
    "    result = swap_case(s)\n",
    "    print(result)\n"
   ]
  },
  {
   "cell_type": "code",
   "execution_count": 2,
   "metadata": {},
   "outputs": [
    {
     "name": "stdout",
     "output_type": "stream",
     "text": [
      "Hi this is Dheeraj\n",
      "Hi-this-is-Dheeraj\n"
     ]
    }
   ],
   "source": [
    "#2 Split and join\n",
    "def split_and_join(line):\n",
    "    a = line.split(\" \")\n",
    "    return \"-\".join(a)\n",
    "    # write your code here\n",
    "\n",
    "if __name__ == '__main__':\n",
    "    line = input()\n",
    "    result = split_and_join(line)\n",
    "    print(result)"
   ]
  },
  {
   "cell_type": "code",
   "execution_count": 3,
   "metadata": {},
   "outputs": [
    {
     "name": "stdout",
     "output_type": "stream",
     "text": [
      "Hello\n",
      "Dheeraj\n",
      "Hello Hello Dheeraj! You just delved into python.\n"
     ]
    }
   ],
   "source": [
    "#3 Whats your name\n",
    "a = input()\n",
    "b = input()\n",
    "c = \"Hello \"+a+\" \"+b+\"! You just delved into python.\"\n",
    "print(c)"
   ]
  },
  {
   "cell_type": "code",
   "execution_count": 4,
   "metadata": {},
   "outputs": [
    {
     "name": "stdout",
     "output_type": "stream",
     "text": [
      "God in great\n",
      "5 s\n",
      "God is great\n"
     ]
    }
   ],
   "source": [
    "#4 Mutations\n",
    "def mutate_string(string, position, character):\n",
    "    a = list(string)\n",
    "    a[position] = character\n",
    "    c = ''.join(a)\n",
    "    return c\n",
    "\n",
    "if __name__ == '__main__':\n",
    "    s = input()\n",
    "    i, c = input().split()\n",
    "    s_new = mutate_string(s, int(i), c)\n",
    "    print(s_new)"
   ]
  },
  {
   "cell_type": "code",
   "execution_count": 5,
   "metadata": {},
   "outputs": [
    {
     "name": "stdout",
     "output_type": "stream",
     "text": [
      "nedjkenekjnekfnerjkfnerkfnerfnrefn\n",
      "ne\n",
      "6\n"
     ]
    }
   ],
   "source": [
    "# 5 find a string\n",
    "big_str = input()\n",
    "small_str = input()\n",
    "small_len = len(small_str)\n",
    "count = 0\n",
    "\n",
    "for i in range(len(big_str[:-small_len + 1])):\n",
    "    if(big_str[i:i+small_len] == small_str):\n",
    "        count += 1\n",
    "\n",
    "print(count)"
   ]
  },
  {
   "cell_type": "code",
   "execution_count": 6,
   "metadata": {},
   "outputs": [
    {
     "name": "stdout",
     "output_type": "stream",
     "text": [
      "jdnwejknewkjewnfwejkfn\n",
      "True\n",
      "True\n",
      "False\n",
      "True\n",
      "False\n"
     ]
    }
   ],
   "source": [
    "#6 String validators\n",
    "s =input()\n",
    "one=False\n",
    "two=False\n",
    "three=False\n",
    "four=False\n",
    "five=False\n",
    "\n",
    "for c in s:\n",
    "    if not one:\n",
    "        one=c.isalnum()\n",
    "    if not two:\n",
    "        two=c.isalpha()\n",
    "    if not three:\n",
    "        three=c.isdigit()\n",
    "    if not four:\n",
    "        four=c.islower()\n",
    "    if not five:\n",
    "        five=c.isupper()\n",
    "\n",
    "print(one)\n",
    "print(two)\n",
    "print(three)\n",
    "print(four)\n",
    "print(five)"
   ]
  },
  {
   "cell_type": "code",
   "execution_count": null,
   "metadata": {},
   "outputs": [],
   "source": []
  },
  {
   "cell_type": "code",
   "execution_count": 14,
   "metadata": {},
   "outputs": [
    {
     "name": "stdout",
     "output_type": "stream",
     "text": [
      "nwnd,wqndeqk,dnqekdnqekdnwdmnbdmendb  f dqen ddbdbd,\n",
      "7\n",
      "nwnd,wq\n",
      "ndeqk,d\n",
      "nqekdnq\n",
      "ekdnwdm\n",
      "nbdmend\n",
      "b  f\n",
      "dqen\n",
      "ddbdbd,\n"
     ]
    }
   ],
   "source": [
    "#8 Text wrap\n",
    "import textwrap\n",
    "\n",
    "def wrap(string, max_width):\n",
    "    return textwrap.fill(string,max_width)\n",
    "\n",
    "if __name__ == '__main__':\n",
    "    string, max_width = input(), int(input())\n",
    "    result = wrap(string, max_width)\n",
    "    print(result)"
   ]
  },
  {
   "cell_type": "code",
   "execution_count": 7,
   "metadata": {},
   "outputs": [
    {
     "name": "stdout",
     "output_type": "stream",
     "text": [
      "4 5\n",
      "-.|.-\n",
      ".|..|..|.\n",
      "WELCOME\n",
      ".|..|.\n",
      "----\n"
     ]
    }
   ],
   "source": [
    "#9 Designer door mat\n",
    "N, M = map(int,input().split()) # More than 6 lines of code will result in 0 score. Blank lines are not counted.\n",
    "for i in range(1,N,2): \n",
    "    print(((M-3*i)//2)*'-'+i*'.|.'+((M-3*i)//2)*'-')\n",
    "print(((M-7)//2)*'-'+'WELCOME'+((M-7)//2)*'-')\n",
    "for i in range(N-2,-1,-2): \n",
    "    print(((M-3*i)//2)*'-'+i*'.|.'+((M-3*i)//2)*'-')"
   ]
  },
  {
   "cell_type": "code",
   "execution_count": 10,
   "metadata": {},
   "outputs": [
    {
     "name": "stdout",
     "output_type": "stream",
     "text": [
      "12\n",
      "   1    1    1    1\n",
      "   2    2    2   10\n",
      "   3    3    3   11\n",
      "   4    4    4  100\n",
      "   5    5    5  101\n",
      "   6    6    6  110\n",
      "   7    7    7  111\n",
      "   8   10    8 1000\n",
      "   9   11    9 1001\n",
      "  10   12    A 1010\n",
      "  11   13    B 1011\n",
      "  12   14    C 1100\n"
     ]
    }
   ],
   "source": [
    "# 10 String formatting\n",
    "n = int(input())\n",
    "lb = len(bin(n)) - 1\n",
    "for i in range(1,n+1):\n",
    "    print('{{0: >{}}}'.format(lb-1).format(i) + '{{0: >{}}}'.format(lb).format(oct(i)[2:]) \n",
    "            + '{{0: >{}}}'.format(lb).format(hex(i)[2:].upper()) + '{{0: >{}}}'.format(lb).format(bin(i)[2:]))"
   ]
  },
  {
   "cell_type": "code",
   "execution_count": 12,
   "metadata": {},
   "outputs": [
    {
     "name": "stdout",
     "output_type": "stream",
     "text": [
      "4\n",
      "------d------\n",
      "----d-c-d----\n",
      "--d-c-b-c-d--\n",
      "d-c-b-a-b-c-d\n",
      "--d-c-b-c-d--\n",
      "----d-c-d----\n",
      "------d------\n"
     ]
    }
   ],
   "source": [
    "#11 Alphabet rangoli\n",
    "def getRangoli(n):\n",
    "    r = []\n",
    "    letters = [chr(ord('a') + x) for x in range(26)]\n",
    "    hold = curr = n - 1\n",
    "    for i in range(n):\n",
    "        line = ''\n",
    "        for j in range(2 * n - 1):\n",
    "            if j % 2 == 1:\n",
    "                line += '-'\n",
    "            else:\n",
    "                num = (2 * n - 2 - j) // 2 + curr\n",
    "                if num <= hold:\n",
    "                    line += letters[num]\n",
    "                else:\n",
    "                    line += '-'\n",
    "        line = line + line[:-1][::-1]\n",
    "        curr -= 1\n",
    "        r.append(line)\n",
    "    for i in range(n - 2, -1, -1):\n",
    "        r.append(r[i][:])\n",
    "    return r\n",
    "n = int(input())\n",
    "r = getRangoli(n)\n",
    "for l in r:\n",
    "    print(l)"
   ]
  },
  {
   "cell_type": "code",
   "execution_count": 14,
   "metadata": {},
   "outputs": [
    {
     "name": "stdout",
     "output_type": "stream",
     "text": [
      "matt henry\n",
      "Matt Henry "
     ]
    }
   ],
   "source": [
    "#12 capitalize\n",
    "n=input()\n",
    "list1=n.split(' ')\n",
    "for i in list1:\n",
    "    print(i.capitalize(),end=' ')"
   ]
  },
  {
   "cell_type": "code",
   "execution_count": 15,
   "metadata": {},
   "outputs": [
    {
     "name": "stdout",
     "output_type": "stream",
     "text": [
      "mandangus\n",
      "Stuart 45\n"
     ]
    }
   ],
   "source": [
    "#13 Minion games\n",
    "S=input()\n",
    "s=0\n",
    "k=0\n",
    "for i in range(len(S)):\n",
    "    if S[i]=='A' or S[i]=='E' or S[i]=='I' or S[i]=='O' or S[i]=='U':\n",
    "        k+=len(S)-i\n",
    "    else:\n",
    "        s+=len(S)-i\n",
    "if s==k:\n",
    "    print(\"Draw\")\n",
    "elif k>s:\n",
    "    print(\"Kevin \"+ str(k))\n",
    "else:\n",
    "    print(\"Stuart \"+ str(s))"
   ]
  },
  {
   "cell_type": "code",
   "execution_count": 17,
   "metadata": {},
   "outputs": [
    {
     "name": "stdout",
     "output_type": "stream",
     "text": [
      "AABCAAADA\n",
      "3\n",
      "AB\n",
      "CA\n",
      "AD\n"
     ]
    }
   ],
   "source": [
    "#14 Merge the tools\n",
    "s = input()\n",
    "k = int(input())\n",
    "\n",
    "i = 0\n",
    "map, to_print = {}, \"\"\n",
    "while i < len(s):\n",
    "    if i % k == 0 and i != 0:\n",
    "        print(to_print)\n",
    "        map, to_print = {}, \"\"\n",
    "    if s[i] not in map.keys():\n",
    "        map[s[i]] = 0\n",
    "        to_print += s[i]\n",
    "    i += 1\n",
    "print(to_print)"
   ]
  },
  {
   "cell_type": "code",
   "execution_count": null,
   "metadata": {},
   "outputs": [],
   "source": []
  }
 ],
 "metadata": {
  "kernelspec": {
   "display_name": "Python 3",
   "language": "python",
   "name": "python3"
  },
  "language_info": {
   "codemirror_mode": {
    "name": "ipython",
    "version": 3
   },
   "file_extension": ".py",
   "mimetype": "text/x-python",
   "name": "python",
   "nbconvert_exporter": "python",
   "pygments_lexer": "ipython3",
   "version": "3.7.6"
  }
 },
 "nbformat": 4,
 "nbformat_minor": 4
}
