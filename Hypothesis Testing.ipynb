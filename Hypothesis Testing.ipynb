{
 "cells": [
  {
   "cell_type": "markdown",
   "metadata": {},
   "source": [
    "### Q-1: Pista House selling Hyderabadi Chicken Dum biryani claims that each parcel packet has 500 grams of biryani (also mentioned on the label of packet). You are sceptic of their claims and believe that on average each packet does not contain 500 grams of biryani. How do you prove your claim?"
   ]
  },
  {
   "cell_type": "markdown",
   "metadata": {},
   "source": [
    "$Ho$ $-->$ Each packet consists 500 grams of biryani\n",
    "\n",
    "$H1$ $-->$ Each packet doesnt consists 500 grams of biryani"
   ]
  },
  {
   "cell_type": "code",
   "execution_count": 1,
   "metadata": {},
   "outputs": [],
   "source": [
    "#Taking the sample \n",
    "sample = [510,498,505,350,601,270,488,512,500,504]\n"
   ]
  },
  {
   "cell_type": "code",
   "execution_count": 3,
   "metadata": {},
   "outputs": [
    {
     "name": "stdout",
     "output_type": "stream",
     "text": [
      "Sample mean =  473.8\n"
     ]
    }
   ],
   "source": [
    "#Finding sample mean\n",
    "sample_mean =sum(sample)/len(sample)\n",
    "print('Sample mean = ',round(sample_mean,2))"
   ]
  },
  {
   "cell_type": "code",
   "execution_count": 4,
   "metadata": {},
   "outputs": [],
   "source": [
    "lst=[]\n",
    "for i in sample:\n",
    "    lst.append((i-sample_mean)**2/len(sample))\n",
    "    "
   ]
  },
  {
   "cell_type": "code",
   "execution_count": 9,
   "metadata": {},
   "outputs": [
    {
     "name": "stdout",
     "output_type": "stream",
     "text": [
      "Sample standard deviation is  88.98\n"
     ]
    }
   ],
   "source": [
    "#Sample variance sample std\n",
    "sample_variance=sum(lst)\n",
    "sample_std = sample_variance**0.5\n",
    "print('Sample standard deviation is ',round(sample_std,2))\n"
   ]
  },
  {
   "cell_type": "markdown",
   "metadata": {},
   "source": [
    "### t score test"
   ]
  },
  {
   "cell_type": "markdown",
   "metadata": {},
   "source": [
    " Since we dont have population variance we use t test instead  of z test"
   ]
  },
  {
   "cell_type": "code",
   "execution_count": 14,
   "metadata": {},
   "outputs": [
    {
     "name": "stdout",
     "output_type": "stream",
     "text": [
      "2.2621571627409915\n"
     ]
    }
   ],
   "source": [
    "from scipy.stats import t\n",
    "alpha = 1 - 0.95\n",
    "t_critical = t.ppf(1 - alpha/2 , df = 9)\n",
    "print(t_critical)"
   ]
  },
  {
   "cell_type": "code",
   "execution_count": 10,
   "metadata": {},
   "outputs": [],
   "source": [
    "population_mean =500\n",
    "sample_size = len(sample)\n",
    "\n",
    "def t_score(x,u,s,n):\n",
    "    t =  (x - u) / (s / n**0.5)\n",
    "    return t\n",
    "\n"
   ]
  },
  {
   "cell_type": "code",
   "execution_count": 12,
   "metadata": {},
   "outputs": [
    {
     "data": {
      "text/plain": [
       "-0.9311551851220788"
      ]
     },
     "execution_count": 12,
     "metadata": {},
     "output_type": "execute_result"
    }
   ],
   "source": [
    "t_score(sample_mean,population_mean,sample_std,sample_size)\n"
   ]
  },
  {
   "cell_type": "markdown",
   "metadata": {},
   "source": [
    "since -t_critical < t_score < t_critical , we failed to reject $Ho$"
   ]
  },
  {
   "cell_type": "markdown",
   "metadata": {},
   "source": [
    "### Q-2: You have developed a new Natural Language Processing Algorithms and done a user study. You claim that the average rating given by the users is greater than 4 on a scale of 1 to 5. How do you prove this to your client?"
   ]
  },
  {
   "cell_type": "markdown",
   "metadata": {},
   "source": [
    "$Ho$ $-->$ Average rating given is less than or equal to 4\n",
    "\n",
    "$H1$ $-->$ Average rating given is more than 4"
   ]
  },
  {
   "cell_type": "code",
   "execution_count": 16,
   "metadata": {},
   "outputs": [],
   "source": [
    "sample = [2,3,5,5,4,3,4,5,3,5]"
   ]
  },
  {
   "cell_type": "code",
   "execution_count": 17,
   "metadata": {},
   "outputs": [
    {
     "name": "stdout",
     "output_type": "stream",
     "text": [
      "Sample mean =  3.9\n"
     ]
    }
   ],
   "source": [
    "#Finding sample mean\n",
    "sample_mean =sum(sample)/len(sample)\n",
    "print('Sample mean = ',round(sample_mean,2))"
   ]
  },
  {
   "cell_type": "code",
   "execution_count": 18,
   "metadata": {},
   "outputs": [],
   "source": [
    "lst=[]\n",
    "for i in sample:\n",
    "    lst.append((i-sample_mean)**2/len(sample))"
   ]
  },
  {
   "cell_type": "code",
   "execution_count": 19,
   "metadata": {},
   "outputs": [
    {
     "name": "stdout",
     "output_type": "stream",
     "text": [
      "Sample standard deviation is  1.04\n"
     ]
    }
   ],
   "source": [
    "#Sample variance sample std\n",
    "sample_variance=sum(lst)\n",
    "sample_std = sample_variance**0.5\n",
    "print('Sample standard deviation is ',round(sample_std,2))"
   ]
  },
  {
   "cell_type": "markdown",
   "metadata": {},
   "source": [
    "### t test"
   ]
  },
  {
   "cell_type": "markdown",
   "metadata": {},
   "source": [
    "Since we dont have population variance we do t test"
   ]
  },
  {
   "cell_type": "markdown",
   "metadata": {},
   "source": [
    "t_score = X - $u$ / (S /sqrt{n})\n",
    "\n",
    "X = sample mean\n",
    "\n",
    "$u$ = population mean\n",
    "\n",
    "S = sample standard deviation\n",
    "\n",
    "n = sample size|"
   ]
  },
  {
   "cell_type": "code",
   "execution_count": 27,
   "metadata": {},
   "outputs": [
    {
     "name": "stdout",
     "output_type": "stream",
     "text": [
      "1.8331129326536335\n"
     ]
    }
   ],
   "source": [
    "from scipy.stats import t\n",
    "alpha = 1 - 0.95\n",
    "t_critical = t.ppf(1 - alpha , df = 9)\n",
    "print(t_critical)"
   ]
  },
  {
   "cell_type": "code",
   "execution_count": 28,
   "metadata": {},
   "outputs": [],
   "source": [
    "population_mean = 4"
   ]
  },
  {
   "cell_type": "code",
   "execution_count": 29,
   "metadata": {},
   "outputs": [
    {
     "data": {
      "text/plain": [
       "-0.3028912664076917"
      ]
     },
     "execution_count": 29,
     "metadata": {},
     "output_type": "execute_result"
    }
   ],
   "source": [
    "t_score(sample_mean,population_mean,sample_std,sample_size)"
   ]
  },
  {
   "cell_type": "markdown",
   "metadata": {},
   "source": [
    "Since t_score is falls under acceptence region we failed to reject $Ho$"
   ]
  },
  {
   "cell_type": "markdown",
   "metadata": {},
   "source": [
    "### Q-3: TATA has developed a better fuel management system for the SUV segment. They claim that with this system, on average the SUV's mileage is at least 15 km/litre?"
   ]
  },
  {
   "cell_type": "markdown",
   "metadata": {},
   "source": [
    "$Ho$ $-->$ Mileage is 15km/litre\n",
    "\n",
    "$H1$ $-->$ Mileage is less than 15"
   ]
  },
  {
   "cell_type": "code",
   "execution_count": 30,
   "metadata": {},
   "outputs": [],
   "source": [
    "sample =[12,14,14.7,15,15.3,14.6,15,17,14.9,15.1]"
   ]
  },
  {
   "cell_type": "code",
   "execution_count": 31,
   "metadata": {},
   "outputs": [],
   "source": [
    "population_mean = 15"
   ]
  },
  {
   "cell_type": "code",
   "execution_count": 32,
   "metadata": {},
   "outputs": [
    {
     "name": "stdout",
     "output_type": "stream",
     "text": [
      "Sample mean =  14.76\n"
     ]
    }
   ],
   "source": [
    "#Finding sample mean\n",
    "sample_mean =sum(sample)/len(sample)\n",
    "print('Sample mean = ',round(sample_mean,2))"
   ]
  },
  {
   "cell_type": "code",
   "execution_count": 33,
   "metadata": {},
   "outputs": [],
   "source": [
    "lst=[]\n",
    "for i in sample:\n",
    "    lst.append((i-sample_mean)**2/len(sample))"
   ]
  },
  {
   "cell_type": "code",
   "execution_count": 34,
   "metadata": {},
   "outputs": [
    {
     "name": "stdout",
     "output_type": "stream",
     "text": [
      "Sample standard deviation is  1.17\n"
     ]
    }
   ],
   "source": [
    "#Sample variance sample std\n",
    "sample_variance=sum(lst)\n",
    "sample_std = sample_variance**0.5\n",
    "print('Sample standard deviation is ',round(sample_std,2))"
   ]
  },
  {
   "cell_type": "markdown",
   "metadata": {},
   "source": [
    "### t test"
   ]
  },
  {
   "cell_type": "markdown",
   "metadata": {},
   "source": [
    "Since we dont have population variance we do t test"
   ]
  },
  {
   "cell_type": "code",
   "execution_count": 35,
   "metadata": {},
   "outputs": [
    {
     "name": "stdout",
     "output_type": "stream",
     "text": [
      "1.8331129326536335\n"
     ]
    }
   ],
   "source": [
    "from scipy.stats import t\n",
    "alpha = 1 - 0.95\n",
    "t_critical = t.ppf(1 - alpha , df = 9)\n",
    "print(t_critical)"
   ]
  },
  {
   "cell_type": "code",
   "execution_count": 36,
   "metadata": {},
   "outputs": [
    {
     "data": {
      "text/plain": [
       "-0.6464331350005957"
      ]
     },
     "execution_count": 36,
     "metadata": {},
     "output_type": "execute_result"
    }
   ],
   "source": [
    "t_score(sample_mean,population_mean,sample_std,sample_size)"
   ]
  },
  {
   "cell_type": "markdown",
   "metadata": {},
   "source": [
    "We failed to reject $Ho$"
   ]
  },
  {
   "cell_type": "markdown",
   "metadata": {},
   "source": [
    "### Q-4: You have developed a new Machine Learning Application and claim that on average it takes less than 100 ms to predict for any future datapoint. How do you convince your client about this claim?"
   ]
  },
  {
   "cell_type": "markdown",
   "metadata": {},
   "source": [
    "$Ho$ $-->$ Time taken is less than 100 ms\n",
    "\n",
    "$H1$ $-->$ Time taken is more than 100 ms"
   ]
  },
  {
   "cell_type": "code",
   "execution_count": 38,
   "metadata": {},
   "outputs": [],
   "source": [
    "sample = [100,102,99,98,104,108,110,87,73,152]"
   ]
  },
  {
   "cell_type": "code",
   "execution_count": 39,
   "metadata": {},
   "outputs": [],
   "source": [
    "population_mean = 100"
   ]
  },
  {
   "cell_type": "code",
   "execution_count": 40,
   "metadata": {},
   "outputs": [
    {
     "name": "stdout",
     "output_type": "stream",
     "text": [
      "Sample mean =  103.3\n"
     ]
    }
   ],
   "source": [
    "#Finding sample mean\n",
    "sample_mean =sum(sample)/len(sample)\n",
    "print('Sample mean = ',round(sample_mean,2))"
   ]
  },
  {
   "cell_type": "code",
   "execution_count": 41,
   "metadata": {},
   "outputs": [],
   "source": [
    "lst=[]\n",
    "for i in sample:\n",
    "    lst.append((i-sample_mean)**2/len(sample))"
   ]
  },
  {
   "cell_type": "code",
   "execution_count": 42,
   "metadata": {},
   "outputs": [
    {
     "name": "stdout",
     "output_type": "stream",
     "text": [
      "Sample standard deviation is  19.19\n"
     ]
    }
   ],
   "source": [
    "#Sample variance sample std\n",
    "sample_variance=sum(lst)\n",
    "sample_std = sample_variance**0.5\n",
    "print('Sample standard deviation is ',round(sample_std,2))"
   ]
  },
  {
   "cell_type": "markdown",
   "metadata": {},
   "source": [
    "### t test"
   ]
  },
  {
   "cell_type": "markdown",
   "metadata": {},
   "source": [
    "Since we dont have population variance we do t test"
   ]
  },
  {
   "cell_type": "code",
   "execution_count": 43,
   "metadata": {},
   "outputs": [
    {
     "name": "stdout",
     "output_type": "stream",
     "text": [
      "1.8331129326536335\n"
     ]
    }
   ],
   "source": [
    "from scipy.stats import t\n",
    "alpha = 1 - 0.95\n",
    "t_critical = t.ppf(1 - alpha , df = 9)\n",
    "print(t_critical)"
   ]
  },
  {
   "cell_type": "code",
   "execution_count": 44,
   "metadata": {},
   "outputs": [
    {
     "data": {
      "text/plain": [
       "0.5438337427284601"
      ]
     },
     "execution_count": 44,
     "metadata": {},
     "output_type": "execute_result"
    }
   ],
   "source": [
    "t_score(sample_mean,population_mean,sample_std,sample_size)"
   ]
  },
  {
   "cell_type": "markdown",
   "metadata": {},
   "source": [
    "we failed to reject $Ho$"
   ]
  },
  {
   "cell_type": "code",
   "execution_count": null,
   "metadata": {},
   "outputs": [],
   "source": []
  }
 ],
 "metadata": {
  "kernelspec": {
   "display_name": "Python 3",
   "language": "python",
   "name": "python3"
  },
  "language_info": {
   "codemirror_mode": {
    "name": "ipython",
    "version": 3
   },
   "file_extension": ".py",
   "mimetype": "text/x-python",
   "name": "python",
   "nbconvert_exporter": "python",
   "pygments_lexer": "ipython3",
   "version": "3.7.6"
  }
 },
 "nbformat": 4,
 "nbformat_minor": 4
}
