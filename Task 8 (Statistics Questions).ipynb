{
 "cells": [
  {
   "cell_type": "code",
   "execution_count": 1,
   "metadata": {},
   "outputs": [
    {
     "name": "stdout",
     "output_type": "stream",
     "text": [
      "0.696\n"
     ]
    }
   ],
   "source": [
    "#1 Binomial distribution\n",
    "import math\n",
    "p1 = 1.09\n",
    "p = p1/(p1+1)\n",
    "q = 1-p\n",
    "n = 6\n",
    "R = []\n",
    "for x in range(3,7):\n",
    "    c1 = math.factorial(n)/(math.factorial(x)*(math.factorial(n-x)))\n",
    "    c2 = p**x\n",
    "    c3 = q**(n-x)\n",
    "    res = c1*c2*c3\n",
    "    R.append(res)\n",
    "re = sum(R)\n",
    "print(round(re, 3))"
   ]
  },
  {
   "cell_type": "code",
   "execution_count": 4,
   "metadata": {},
   "outputs": [
    {
     "name": "stdout",
     "output_type": "stream",
     "text": [
      "15 10\n",
      "0.82\n",
      "0.456\n"
     ]
    }
   ],
   "source": [
    "#2 Binomial distribution 2\n",
    "import math\n",
    "a,n = map(int,input().split())\n",
    "p = a/100\n",
    "q = 1-p\n",
    "R = []\n",
    "S = []\n",
    "\n",
    "#not more than 2\n",
    "for x in range(0,3):\n",
    "    c1 = math.factorial(n)/(math.factorial(x)*(math.factorial(n-x)))\n",
    "    c2 = p**x\n",
    "    c3 = q**(n-x)\n",
    "    res = c1*c2*c3\n",
    "    R.append(res)\n",
    "re = sum(R)\n",
    "print(round(re, 3))\n",
    "\n",
    "#Atleast 2\n",
    "for x in range(2,n):\n",
    "    c1 = math.factorial(n)/(math.factorial(x)*(math.factorial(n-x)))\n",
    "    c2 = p**x\n",
    "    c3 = q**(n-x)\n",
    "    res = c1*c2*c3\n",
    "    S.append(res)\n",
    "re = sum(S)\n",
    "print(round(re, 3))\n",
    "\n"
   ]
  },
  {
   "cell_type": "code",
   "execution_count": 6,
   "metadata": {},
   "outputs": [
    {
     "name": "stdout",
     "output_type": "stream",
     "text": [
      "0.401\n",
      "0.341\n"
     ]
    }
   ],
   "source": [
    "#3 Normal distribution\n",
    "import math\n",
    "q1 = 1/2 * (1 + math.erf((19.5 - 20)/(math.sqrt(2)*2)))\n",
    "q2 = (1/2 * (1 + math.erf((22 - 20)/(math.sqrt(2)*2)))) - 1/2\n",
    "print(\"%.3f\" % q1)\n",
    "print(\"%.3f\" % q2)"
   ]
  },
  {
   "cell_type": "code",
   "execution_count": 7,
   "metadata": {},
   "outputs": [
    {
     "name": "stdout",
     "output_type": "stream",
     "text": [
      "15.87\n",
      "84.13\n",
      "15.87\n"
     ]
    }
   ],
   "source": [
    "#4 Normal distribution 2\n",
    "import math\n",
    "q1 = 1 - (.5 * (1 + math.erf((80 - 70)/(math.sqrt(2)*10))))\n",
    "q2 = 1 - (.5 * (1 + math.erf((60 - 70)/(math.sqrt(2)*10))))\n",
    "q3 = .5 * (1 + math.erf((60 - 70)/(math.sqrt(2)*10)))\n",
    "\n",
    "print(\"%.2f\" %(q1*100))\n",
    "print(\"%.2f\" %(q2*100))\n",
    "print(\"%.2f\" %(q3*100))"
   ]
  },
  {
   "cell_type": "code",
   "execution_count": 8,
   "metadata": {},
   "outputs": [
    {
     "name": "stdout",
     "output_type": "stream",
     "text": [
      "9800\n",
      "49\n",
      "205\n",
      "15\n",
      "0.0099\n"
     ]
    }
   ],
   "source": [
    "#5 Central limit theorem\n",
    "import sys\n",
    "import math as m\n",
    "def errorf(x,mean,s):\n",
    "    a=((x-mean)/(s*m.sqrt(2.0)))\n",
    "    return m.erf(a)\n",
    "def F(x,mean,s):\n",
    "    return 0.5*(1+errorf(x,mean,s))\n",
    "maxi = float(input().strip())\n",
    "boxes=float(input().strip())\n",
    "mean=float(input().strip())\n",
    "s=float(input().strip())\n",
    "\n",
    "#print (maxi,boxes*mean,s)\n",
    "mw=boxes*mean\n",
    "up=boxes*(mean+s)\n",
    "lo=boxes*(mean-s)\n",
    "z=(maxi-mean*boxes)/(s*m.sqrt(boxes))\n",
    "#print (abs(z))\n",
    "z=round(abs(z),2)\n",
    "#print (z)\n",
    "print (\"%.4f\" % (1-F(abs(z),0,1)))"
   ]
  },
  {
   "cell_type": "code",
   "execution_count": 10,
   "metadata": {},
   "outputs": [
    {
     "name": "stdout",
     "output_type": "stream",
     "text": [
      "250\n",
      "100\n",
      "2.4\n",
      "2\n",
      "0.6915\n"
     ]
    }
   ],
   "source": [
    "#6 Central limit theorem 2\n",
    "import sys\n",
    "import math as m\n",
    "def errorf(x,mean,s):\n",
    "    a=((x-mean)/(s*m.sqrt(2.0)))\n",
    "    return m.erf(a)\n",
    "def F(x,mean,s):\n",
    "    return 0.5*(1+errorf(x,mean,s))\n",
    "tickets = float(input().strip())\n",
    "students=float(input().strip())\n",
    "mean=float(input().strip())\n",
    "s=float(input().strip())\n",
    "\n",
    "#print (tickets,students,mean,s)\n",
    "#The Central Limit Theorem for  CumulativeProb(z<zmax)=F(zmanx,0,1)\n",
    "#zmax=(Limit - quantity*mean)/(standar deviation*sqrt(quantity))\n",
    "zmax =(tickets-students*mean)/(s*m.sqrt(students))\n",
    "z=round(zmax,2)\n",
    "#print (z,zmax)\n",
    "print (\"%.4f\" % (F(z,0,1)))\n"
   ]
  },
  {
   "cell_type": "code",
   "execution_count": 11,
   "metadata": {},
   "outputs": [
    {
     "name": "stdout",
     "output_type": "stream",
     "text": [
      "484.32\n",
      "515.68\n"
     ]
    }
   ],
   "source": [
    "#7 Central limit theorem 3\n",
    "import math\n",
    "samples = 100\n",
    "mean = 500\n",
    "stdDev = 80\n",
    "stdDev = stdDev / math.sqrt(samples)\n",
    "interval = .95\n",
    "z = 1.96\n",
    "a = -z * stdDev + 500\n",
    "b = z * stdDev + 500\n",
    "print(\"%.2f\" % a)\n",
    "print(\"%.2f\" % b)"
   ]
  },
  {
   "cell_type": "code",
   "execution_count": 22,
   "metadata": {},
   "outputs": [
    {
     "name": "stdout",
     "output_type": "stream",
     "text": [
      "7\n",
      "2.3 4.5 6 9 2.53 9 7 1.1\n",
      "4 5 6.9 9.4 2 5 6\n",
      "0.611\n"
     ]
    }
   ],
   "source": [
    "#8 Pearson Correlation\n",
    "from math import sqrt\n",
    "N = int(input().strip())\n",
    "X = [float(i) for i in input().strip().split(' ')]\n",
    "Y = [float(i) for i in input().strip().split(' ')]\n",
    "mu_x = sum(X)/N\n",
    "mu_y = sum(Y)/N\n",
    "sigma_x = sqrt(sum([(i-mu_x)**2 for i in X])/N)\n",
    "sigma_y = sqrt(sum([(i-mu_y)**2 for i in Y])/N)\n",
    "rho = sum([(X[i]-mu_x)*(Y[i]-mu_y) for i in range(N)])/(N*sigma_x*sigma_y)\n",
    "print('{:.3f}'.format(rho))\n",
    "\n",
    "\n"
   ]
  },
  {
   "cell_type": "code",
   "execution_count": 23,
   "metadata": {},
   "outputs": [
    {
     "name": "stdout",
     "output_type": "stream",
     "text": [
      "80 88\n",
      "90 98\n",
      "82 83\n",
      "92 87\n",
      "86 90\n",
      "86.085\n"
     ]
    }
   ],
   "source": [
    "#9 Least square regression\n",
    "L = [ list( map( float, input().strip().split(\" \") ) ) for i in range(5) ]\n",
    "x = [ L[i][0] for i in range(5) ]\n",
    "y = [ L[i][1] for i in range(5) ]\n",
    "xiyi = [ x[i]*y[i] for i in range(len(x)) ]\n",
    "xisq = [ x[i]**2 for i in range(len(x)) ]\n",
    "xmean = sum(x)/5\n",
    "ymean = sum(y)/5\n",
    "b = (5*sum(xiyi)-sum(x)*sum(y)) / (5*sum(xisq)-sum(x)**2)\n",
    "a = ymean - b*xmean\n",
    "print('%.3f' % (a+80*b))"
   ]
  },
  {
   "cell_type": "code",
   "execution_count": 25,
   "metadata": {},
   "outputs": [
    {
     "name": "stdout",
     "output_type": "stream",
     "text": [
      "2 3\n",
      "0.18 0.89 109.85\n",
      "1.0 0.26 155.72\n",
      "0.92 0.11 137.66\n",
      "2\n",
      "0.49 0.18\n",
      "0.57 0.83\n",
      "159.71816011373684\n",
      "245.75571224711024\n"
     ]
    }
   ],
   "source": [
    "#10 Multiple Linear Regression\n",
    "import sys\n",
    "import pandas as pd\n",
    "import numpy as np\n",
    "from sklearn import linear_model\n",
    "from sklearn.model_selection import train_test_split\n",
    "F,N = [int(temp) for temp in input().strip().split(' ')]\n",
    "d = []\n",
    "for i in range(N):\n",
    "    d.append([float(temp) for temp in input().strip().split(' ')])\n",
    "df_train = pd.DataFrame(d)\n",
    "T = int(input().strip())\n",
    "d = []\n",
    "for i in range(T):\n",
    "    d.append([float(temp) for temp in input().strip().split(' ')])\n",
    "    \n",
    "df_test = pd.DataFrame(d)\n",
    "df_train_X = df_train.iloc[:,:F]\n",
    "df_train_Y = df_train.iloc[:,F]\n",
    "X_train, X_test, Y_train, Y_test = train_test_split(df_train_X,df_train_Y,test_size=0.33,random_state=42)\n",
    "lin_reg = linear_model.LinearRegression()\n",
    "lin_reg.fit(X_train,Y_train)\n",
    "for out in lin_reg.predict(df_test):\n",
    "    print(out)"
   ]
  }
 ],
 "metadata": {
  "kernelspec": {
   "display_name": "Python 3",
   "language": "python",
   "name": "python3"
  },
  "language_info": {
   "codemirror_mode": {
    "name": "ipython",
    "version": 3
   },
   "file_extension": ".py",
   "mimetype": "text/x-python",
   "name": "python",
   "nbconvert_exporter": "python",
   "pygments_lexer": "ipython3",
   "version": "3.7.6"
  }
 },
 "nbformat": 4,
 "nbformat_minor": 4
}
