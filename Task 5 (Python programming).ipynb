{
 "cells": [
  {
   "cell_type": "code",
   "execution_count": 20,
   "metadata": {},
   "outputs": [
    {
     "name": "stdout",
     "output_type": "stream",
     "text": [
      "3e3e3e3e3e\n",
      "False\n"
     ]
    }
   ],
   "source": [
    "#1 Detecting floating point number\n",
    "a = input()  \n",
    "try : \n",
    "    float(a)\n",
    "    res = True\n",
    "except :\n",
    "    res = False\n",
    "print( str(res))"
   ]
  },
  {
   "cell_type": "code",
   "execution_count": 22,
   "metadata": {},
   "outputs": [
    {
     "name": "stdout",
     "output_type": "stream",
     "text": [
      "100,54545,344.767\n",
      "100\n",
      "54545\n",
      "344\n",
      "767\n"
     ]
    }
   ],
   "source": [
    "#2 re.split()\n",
    "S = input()\n",
    "sp = re.split(\"[\\.,]\", S)\n",
    "for each in range(len(sp)):\n",
    "    if sp[each] != \"\":\n",
    "        print(sp[each])"
   ]
  },
  {
   "cell_type": "code",
   "execution_count": 23,
   "metadata": {},
   "outputs": [
    {
     "name": "stdout",
     "output_type": "stream",
     "text": [
      "djede2jkdkdn23kj3e\n",
      "-1\n"
     ]
    }
   ],
   "source": [
    "#3 Group(),groups(),groupdict()\n",
    "import re\n",
    "\n",
    "m = re.search(r'([a-zA-Z0-9])((.*\\1\\1)|(\\1))', input().strip())\n",
    "if m != None:\n",
    "    print(m.group(1))\n",
    "else:\n",
    "    print('-1')"
   ]
  },
  {
   "cell_type": "code",
   "execution_count": 25,
   "metadata": {},
   "outputs": [
    {
     "name": "stdout",
     "output_type": "stream",
     "text": [
      "edh2eb3kjej2lkwjqwkljLJLDJEWLDNMEEEWNEN\n",
      "EEE\n"
     ]
    }
   ],
   "source": [
    "#re.findall(),re.finditer()\n",
    "import re\n",
    "m = re.finditer(r'[^AEIOUaeiou +\\-]([AEIOUaeiou]{2,})(?=[^AEIOUaeiou +\\-])', input().strip())\n",
    "found = 0\n",
    "for mm in m:\n",
    "    print(mm.group(1))\n",
    "    found = 1\n",
    "\n",
    "if found == 0:\n",
    "    print('-1')"
   ]
  },
  {
   "cell_type": "code",
   "execution_count": 29,
   "metadata": {},
   "outputs": [
    {
     "name": "stdout",
     "output_type": "stream",
     "text": [
      "aagaajaaj\n",
      "aa\n",
      "(0, 1)\n",
      "(3, 4)\n",
      "(6, 7)\n"
     ]
    }
   ],
   "source": [
    "#4 re.start,re.end\n",
    "import re\n",
    "S = input().strip()\n",
    "k = input().strip()\n",
    "m = re.finditer(r'(?='+k+')', S)\n",
    "found = 0\n",
    "if m:\n",
    "    for mm in m:\n",
    "        print('(%i, %i)' % (mm.start(), mm.start()+len(k)-1))\n",
    "        found = 1\n",
    "if found == 0:\n",
    "    print('(-1, -1)')"
   ]
  },
  {
   "cell_type": "code",
   "execution_count": 31,
   "metadata": {},
   "outputs": [
    {
     "name": "stdout",
     "output_type": "stream",
     "text": [
      "11\n",
      "a =1;\n",
      "a =1;\n",
      "b= input()\n",
      "b= input()\n",
      "if a + b > 0 and a - b < 0\n",
      "if a + b > 0 and a - b < 0\n",
      "start()\n",
      "start()\n",
      "elif a*b > 10 or a/b < 1:\n",
      "elif a*b > 10 or a/b < 1:\n",
      "stop()\n",
      "stop()\n",
      "print set(list(a)) | set(list(b))\n",
      "print set(list(a)) | set(list(b))\n",
      "stop()\n",
      "stop()\n",
      "jh4rjh4r\n",
      "jh4rjh4r\n",
      "jhrjhtj4hr\n",
      "jhrjhtj4hr\n",
      "j4hr4jrh4jrhjhr4jr\n",
      "j4hr4jrh4jrhjhr4jr\n"
     ]
    }
   ],
   "source": [
    "#5 regex substitution\n",
    "import re\n",
    "\n",
    "def convert(match):\n",
    "    if match.group(0) == '&&':\n",
    "        return 'and'\n",
    "    return 'or'\n",
    "T = int(input())\n",
    "for _ in range(T):\n",
    "    s = input()\n",
    "    print(re.sub(r\"(?<= )((&&)|(\\|\\|))(?= )\", convert, s))"
   ]
  },
  {
   "cell_type": "code",
   "execution_count": 32,
   "metadata": {},
   "outputs": [
    {
     "name": "stdout",
     "output_type": "stream",
     "text": [
      "XIIII\n",
      "False\n"
     ]
    }
   ],
   "source": [
    "#6 Validating roman numbers \n",
    "import re;\n",
    "def isRomanNumeral(s):\n",
    "    return True if re.match(r'^M{0,3}(CM|CD|D?C{0,3})(C|X{0,3}|XL|LX{0,3}|XC)(I{0,3}|IV|VI{0,3}|IX)$',s) else False;\n",
    "if __name__ == \"__main__\":\n",
    "    print(isRomanNumeral(input()));"
   ]
  },
  {
   "cell_type": "code",
   "execution_count": 34,
   "metadata": {},
   "outputs": [
    {
     "name": "stdout",
     "output_type": "stream",
     "text": [
      "11\n",
      "#BED\n",
      "{\n",
      "color: #FfFdF8; background-color:#aef;\n",
      "#FfFdF8\n",
      "#aef\n",
      "font-size: 123px;\n",
      " background: -webkit-linear-gradient(top, #f9f9f9, #fff);\n",
      "#f9f9f9\n",
      "#fff\n",
      "}\n",
      "#Cab\n",
      "{\n",
      "background-color: #ABC;\n",
      "#ABC\n",
      "border: 2px dashed #fff;\n",
      "#fff\n",
      "}\n"
     ]
    }
   ],
   "source": [
    "#7 Hex color code\n",
    "hexdigs = set('0123456789abcdefABCDEF')\n",
    "nlines = int(input())\n",
    "inbrace = False\n",
    "for _ in range(nlines):\n",
    "    line = input()\n",
    "    if '{' in line:\n",
    "        inbrace = True\n",
    "    elif '}' in line:\n",
    "        inbrace = False\n",
    "    elif inbrace:\n",
    "        start = 0\n",
    "        line += ' '*7\n",
    "        while True:\n",
    "            ind = line.find('#', start)\n",
    "            if ind == -1:\n",
    "                break\n",
    "            if all(c in hexdigs for c in line[ind+1: ind+4]) and not line[ind+4].isalnum():\n",
    "                print(line[ind: ind+4])\n",
    "            elif all(c in hexdigs for c in line[ind+1: ind+7]) and not line[ind+7].isalnum():\n",
    "                print(line[ind: ind+7])\n",
    "            start = ind + 1"
   ]
  },
  {
   "cell_type": "code",
   "execution_count": 38,
   "metadata": {},
   "outputs": [
    {
     "name": "stdout",
     "output_type": "stream",
     "text": [
      "2\n",
      "<html><head><title>HTML Parser - I</title></head>\n",
      "<body data-modal-target class='1'><h1>HackerRank</h1><br /></body></html>\n",
      "Start : html\n",
      "Start : head\n",
      "Start : title\n",
      "End   : title\n",
      "End   : head\n",
      "Start : body\n",
      "-> data-modal-target > None\n",
      "-> class > 1\n",
      "Start : h1\n",
      "End   : h1\n",
      "Empty : br\n",
      "End   : body\n",
      "End   : html\n"
     ]
    }
   ],
   "source": [
    "#8 Html parser\n",
    "from html.parser import HTMLParser\n",
    "N = int(input())\n",
    "html = \"\"\n",
    "for i in range(0,N):\n",
    "    html += input()\n",
    "class MyHTMLParser(HTMLParser):\n",
    "    def handle_starttag(self, tag, attrs):\n",
    "        print (\"Start : {}\".format(tag))\n",
    "        if(len(attrs)):\n",
    "            for a,b in attrs:\n",
    "                print(\"-> {} > {}\".format(a,b))\n",
    "    def handle_endtag(self, tag):\n",
    "        print (\"End   : {}\".format(tag))\n",
    "    def handle_startendtag(self, tag, attrs):\n",
    "        print (\"Empty : {}\".format(tag))\n",
    "        if(len(attrs)):\n",
    "            for a,b in attrs:\n",
    "                print(\"-> {} > {}\".format(a,b))\n",
    "parser = MyHTMLParser()\n",
    "parser.feed(html)"
   ]
  },
  {
   "cell_type": "code",
   "execution_count": 39,
   "metadata": {},
   "outputs": [
    {
     "name": "stdout",
     "output_type": "stream",
     "text": [
      "4\n",
      "<!--[if IE 9]>IE9-specific content\n",
      "<![endif]-->\n",
      "<div> Welcome to HackerRank</div>\n",
      "<!--[if IE 9]>IE9-specific content<![endif]-->\n",
      ">>> Single-line Comment\n",
      "[if IE 9]>IE9-specific content<![endif]\n",
      ">>> Data\n",
      " Welcome to HackerRank\n",
      ">>> Single-line Comment\n",
      "[if IE 9]>IE9-specific content<![endif]\n"
     ]
    }
   ],
   "source": [
    "#9 Html parser 2\n",
    "from __future__ import print_function\n",
    "import sys\n",
    "if sys.version_info[0]>=3:\n",
    "\traw_input=input\n",
    "\tfrom html.parser import HTMLParser\n",
    "else:\n",
    "\tfrom HTMLParser import HTMLParser\n",
    "\n",
    "class MyHTMLParser(HTMLParser):\n",
    "\tdef handle_starttag(self, tag, attrs):\n",
    "\t\t#print(\"Start : \"+tag)\n",
    "\t\t#for e in attrs: print(\"-> \"+e[0]+\" > \"+str(e[1]))\n",
    "\t\tpass\n",
    "\tdef handle_endtag(self, tag):\n",
    "\t\t#print(\"End   : \"+tag)\n",
    "\t\tpass\n",
    "\tdef handle_startendtag(self, tag, attrs):\n",
    "\t\t#print(\"Empty : \"+tag)\n",
    "\t\t#for e in attrs: print(\"-> \"+e[0]+\" > \"+str(e[1]))\n",
    "\t\tpass\n",
    "\tdef handle_comment(self, data):\n",
    "\t\tprint(\">>> Multi-line Comment\" if \"\\r\" in data else \">>> Single-line Comment\")\n",
    "\t\tprint(data.replace(\"\\r\",\"\\n\"))\n",
    "\tdef handle_data(self, data):\n",
    "\t\tif data.strip():\n",
    "\t\t\tprint(\">>> Data\")\n",
    "\t\t\tprint(data)\n",
    "\n",
    "parser = MyHTMLParser()\n",
    "html=''\n",
    "for _ in range(int(raw_input())):\n",
    "\thtml+=raw_input()\n",
    "parser.feed(html)\n",
    "parser.close()"
   ]
  },
  {
   "cell_type": "code",
   "execution_count": 40,
   "metadata": {},
   "outputs": [
    {
     "name": "stdout",
     "output_type": "stream",
     "text": [
      "9\n",
      "<head>\n",
      "head\n",
      "<title>HTML</title>\n",
      "title\n",
      "<object type=\"application/x-flash\"\n",
      "data=\"your-file.swf\"\n",
      "width=\"0\" height=\"0\">\n",
      "object\n",
      "-> type > application/x-flash\n",
      "-> data > your-file.swf\n",
      "-> width > 0\n",
      "-> height > 0\n",
      "<!-- <param name=\"movie\" value=\"your-file.swf\" /> -->\n",
      "<param name=\"quality\" value=\"high\"/>\n",
      "param\n",
      "-> name > quality\n",
      "-> value > high\n",
      "</object>\n",
      "<title>HTML</title>\n",
      "title\n"
     ]
    }
   ],
   "source": [
    "#10 Detect HTML tags\n",
    "from html.parser import HTMLParser\n",
    "class Pythonist2Parser(HTMLParser):\n",
    "    def handle_starttag(self, tag, attrs):\n",
    "        print(tag)\n",
    "        for attr, value in attrs:\n",
    "            print('->', attr, '>', value)\n",
    "\n",
    "parser = Pythonist2Parser()\n",
    "for _ in range(int(input())):\n",
    "    parser.feed(input())\n",
    "parser.close()"
   ]
  },
  {
   "cell_type": "code",
   "execution_count": 42,
   "metadata": {},
   "outputs": [
    {
     "name": "stdout",
     "output_type": "stream",
     "text": [
      "2\n",
      "BICD102354\n",
      "Valid\n",
      "BHHGJHJKKL\n",
      "Invalid\n"
     ]
    }
   ],
   "source": [
    "#11 Validating UID\n",
    "import re\n",
    "N = int(input())\n",
    "for _ in range(N):\n",
    "    t = input().strip()\n",
    "\n",
    "    if re.search(r'[A-Z].*[A-Z]', t) != None and re.search(r'[0-9].*[0-9].*[0-9]', t) != None and re.search(r'^[a-zA-Z0-9]*$', t) != None and re.search(r'(.).*\\1', t) == None and len(t) == 10:\n",
    "        print('Valid')\n",
    "    else:\n",
    "        print('Invalid')"
   ]
  },
  {
   "cell_type": "code",
   "execution_count": 43,
   "metadata": {},
   "outputs": [
    {
     "name": "stdout",
     "output_type": "stream",
     "text": [
      "3\n",
      "4123456789123456\n",
      "Valid\n",
      "5123-4567-8912-3456\n",
      "Valid\n",
      "5123 - 3567 - 8912 - 3456\n",
      "Invalid\n"
     ]
    }
   ],
   "source": [
    "#12 Validating creditcard number\n",
    "import re\n",
    "t = int(input())\n",
    "for i in range(0,t):\n",
    "    x = input()\n",
    "    if(x.count(\"-\")>0):\n",
    "        a = x.split(\"-\")\n",
    "        p=1\n",
    "        if(len(a)!=4):\n",
    "            p=None\n",
    "            a=[]\n",
    "        for b in a:\n",
    "            if len(b)!=4:\n",
    "                p=None\n",
    "                break\n",
    "    else:\n",
    "        p=re.search(\"[456][0-9]{15}\",x)\n",
    "    x=x.replace(\"-\",\"\")\n",
    "    q= re.search(\".*([0-9])\\\\1{3}.*\",x)\n",
    "    if(p!=None and q==None):\n",
    "        print(\"Valid\")\n",
    "    else:\n",
    "        print(\"Invalid\")"
   ]
  },
  {
   "cell_type": "code",
   "execution_count": 45,
   "metadata": {},
   "outputs": [
    {
     "name": "stdout",
     "output_type": "stream",
     "text": [
      "110000\n",
      "False\n"
     ]
    }
   ],
   "source": [
    "#13validating postal codes\n",
    "def isValid(x):\n",
    "    while len(x)!=6:\n",
    "        return False\n",
    "    while not all('0'<=x[i]<='9' for i in range(len(x))):\n",
    "        return False\n",
    "    count=0\n",
    "    i=0\n",
    "    while i<4:\n",
    "        while x[i]==x[i+2]:\n",
    "            count+=1\n",
    "            while count>1:\n",
    "                return False\n",
    "            i+=1\n",
    "            while i>3:\n",
    "                return True\n",
    "        i+=1\n",
    "    return count<2\n",
    "x=input()\n",
    "print(isValid(x))"
   ]
  },
  {
   "cell_type": "code",
   "execution_count": 48,
   "metadata": {},
   "outputs": [
    {
     "name": "stdout",
     "output_type": "stream",
     "text": [
      "2 3\n",
      "Tsi\n",
      "h%x\n",
      "Ths ix\n"
     ]
    }
   ],
   "source": [
    "#14 Matrix Script\n",
    "def isChar(x):\n",
    "    return 'a'<=x<='z' or 'A'<=x<='Z' or '0'<=x<='9'\n",
    "def solve():\n",
    "    N,M=tuple(map(int,input().split()))\n",
    "    a=[]\n",
    "    for i in range(N):\n",
    "        a.append(list(input()))\n",
    "    p='a'\n",
    "    for i in range(M):\n",
    "        for j in range(N):\n",
    "            p=p+a[j][i]\n",
    "    curr=N*M\n",
    "    while not isChar(p[curr]):\n",
    "        curr-=1\n",
    "    while(curr==0):\n",
    "        return p[1:]\n",
    "    p,alpha=p[1:curr+1],p[curr+1:]\n",
    "    ans=''\n",
    "    beta=''\n",
    "    i=0\n",
    "    while not isChar(p[i]):\n",
    "        beta=beta+p[i]\n",
    "        i+=1\n",
    "    while True:\n",
    "        try:\n",
    "            while(isChar(p[i])):\n",
    "                ans+=p[i]\n",
    "                i+=1\n",
    "        except:\n",
    "            return beta+ans+alpha\n",
    "        try:\n",
    "            while(not isChar(p[i])):\n",
    "                i+=1\n",
    "        except:\n",
    "            return beta+ans+alpha\n",
    "        ans+=' '\n",
    "print(solve())"
   ]
  }
 ],
 "metadata": {
  "kernelspec": {
   "display_name": "Python 3",
   "language": "python",
   "name": "python3"
  },
  "language_info": {
   "codemirror_mode": {
    "name": "ipython",
    "version": 3
   },
   "file_extension": ".py",
   "mimetype": "text/x-python",
   "name": "python",
   "nbconvert_exporter": "python",
   "pygments_lexer": "ipython3",
   "version": "3.7.6"
  }
 },
 "nbformat": 4,
 "nbformat_minor": 4
}
